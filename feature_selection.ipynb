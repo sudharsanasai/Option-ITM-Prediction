{
 "cells": [
  {
   "cell_type": "code",
   "execution_count": 5,
   "metadata": {},
   "outputs": [],
   "source": [
    "import json\n",
    "from random import sample\n",
    "from collections import defaultdict\n",
    "import os\n",
    "\n",
    "import numpy as np\n",
    "import pandas as pd\n",
    "import matplotlib.pyplot as plt\n",
    "import seaborn as sns\n",
    "from sklearn.linear_model import LogisticRegression\n",
    "from sklearn.tree import DecisionTreeClassifier\n",
    "from sklearn.metrics import roc_auc_score, confusion_matrix, roc_curve\n",
    "from sklearn.feature_selection import f_classif, mutual_info_classif, RFE\n",
    "from sklearn.ensemble import RandomForestClassifier\n",
    "\n",
    "\n",
    "pd.set_option('display.max_columns', None)\n",
    "pd.set_option('display.max_rows', 100)"
   ]
  },
  {
   "cell_type": "markdown",
   "metadata": {},
   "source": [
    "# Read in data"
   ]
  },
  {
   "cell_type": "code",
   "execution_count": 6,
   "metadata": {},
   "outputs": [],
   "source": [
    "def read_in_data(threshold=0.001, window=5, drop_lags=True, drop_2020=True):\n",
    "    \"\"\"\n",
    "    Takes in an ITM threshold and window (1, 5, 10, 21, reads in and returns data clean.)\n",
    "    \"\"\"\n",
    "    badf = pd.read_csv('data/badf.csv', index_col=0, parse_dates=True)\n",
    "    badf.drop(columns = ['open', 'high', 'low', 'close'], inplace=True)\n",
    "\n",
    "    badf['label'] = (badf[f'target_{window}d']>threshold).astype(int)\n",
    "    badf = badf.drop(columns = ['target_1d','target_5d','target_10d','target_21d'])\n",
    "    badf = badf.drop(columns = [column for column in badf.columns if 'fb' in column])\n",
    "    badf = badf.drop(columns = [column for column in badf.columns if 'tsla' in column])\n",
    "    \n",
    "    # Drop lags, too many datapoints right now\n",
    "    if drop_lags:\n",
    "        badf = badf.drop(columns = [column for column in badf.columns if '_lag' in column])\n",
    "\n",
    "    for column in badf.columns:\n",
    "        badf[column] = badf[column].fillna(badf[column].median())\n",
    "\n",
    "    if drop_2020:\n",
    "        badf = badf[badf.index<'2020-01-01']\n",
    "        badf_test_holdout = badf[badf.index >= '2019-01-01']\n",
    "        badf = badf[badf.index < '2019-01-01']\n",
    "    else:\n",
    "        badf_test_holdout = badf[badf.index >= '2020-01-01']\n",
    "        badf = badf[badf.index < '2020-01-01']        \n",
    "    \n",
    "    return badf, badf_test_holdout"
   ]
  },
  {
   "cell_type": "markdown",
   "metadata": {},
   "source": [
    "# Split into features and target, split into training and test"
   ]
  },
  {
   "cell_type": "code",
   "execution_count": 7,
   "metadata": {},
   "outputs": [],
   "source": [
    "def split_features_target(df):\n",
    "    X = df.drop('label', axis=1)\n",
    "    y = df['label']\n",
    "    return X, y"
   ]
  },
  {
   "cell_type": "code",
   "execution_count": 8,
   "metadata": {},
   "outputs": [],
   "source": [
    "def split_training_test(X, y, train_prop=0.8):\n",
    "    split_index = int(round(train_prop*len(X)))\n",
    "    \n",
    "    X_train = X[:split_index]\n",
    "    X_test = X[split_index:]\n",
    "\n",
    "    y_train = y[:split_index]\n",
    "    y_test = y[split_index:]\n",
    "    \n",
    "    return X_train, X_test, y_train, y_test"
   ]
  },
  {
   "cell_type": "markdown",
   "metadata": {},
   "source": [
    "# Baseline model time\n",
    "\n",
    "Will use this to compare everything"
   ]
  },
  {
   "cell_type": "code",
   "execution_count": 9,
   "metadata": {},
   "outputs": [],
   "source": [
    "def decision_tree_auc(X, y):\n",
    "    \"\"\"\n",
    "    Basic decision tree, return AUC and confusion matrix\n",
    "    \"\"\"\n",
    "\n",
    "    X_train, X_test, y_train, y_test = split_training_test(X, y)\n",
    "\n",
    "    baseline_tree = DecisionTreeClassifier().fit(X_train, y_train)\n",
    "\n",
    "    y_pred = baseline_tree.predict_proba(X_test)[:,1]\n",
    "\n",
    "    return roc_auc_score(y_test, y_pred)"
   ]
  },
  {
   "cell_type": "markdown",
   "metadata": {},
   "source": [
    "# Low variance filter\n",
    "\n",
    "One strategy to reduce dimensionality is to drop features with little or no variance"
   ]
  },
  {
   "cell_type": "code",
   "execution_count": 10,
   "metadata": {},
   "outputs": [],
   "source": [
    "def show_variances(X):\n",
    "    variances = X.var()\n",
    "    return variances.sort_values()"
   ]
  },
  {
   "cell_type": "markdown",
   "metadata": {},
   "source": [
    "It's difficult to say what \"too low\" variance is, so lets just drop all the rows with a variance of 0:"
   ]
  },
  {
   "cell_type": "code",
   "execution_count": 11,
   "metadata": {},
   "outputs": [],
   "source": [
    "def filter_by_variance(X, y, hp=None):\n",
    "    if hp is not None:\n",
    "        threshold = hp['threshold']\n",
    "    else:\n",
    "        threshold = 0\n",
    "    variances = show_variances(X)\n",
    "    return X[[col for col in X if variances[col] > threshold]]"
   ]
  },
  {
   "cell_type": "markdown",
   "metadata": {},
   "source": [
    "# F classification and Mutual Information"
   ]
  },
  {
   "cell_type": "code",
   "execution_count": 12,
   "metadata": {},
   "outputs": [],
   "source": [
    "def f_scores_ranking(X, y):\n",
    "    \"\"\"\n",
    "    Use F-Classification to rank features (not too sure what this means yet)\n",
    "    \"\"\"\n",
    "    \n",
    "    f_scores = f_classif(X, y)[0]\n",
    "\n",
    "    f_features = pd.Series(dict(zip(X.columns, f_scores)))\n",
    "\n",
    "    return f_features.sort_values(ascending=False)"
   ]
  },
  {
   "cell_type": "code",
   "execution_count": 13,
   "metadata": {},
   "outputs": [],
   "source": [
    "def mutual_information_ranking(X, y):\n",
    "    \"\"\"\n",
    "    Use mutual information to rank features by importance\n",
    "    \"\"\"\n",
    "    \n",
    "    mi_scores = mutual_info_classif(X, y)\n",
    "\n",
    "    mi_features = pd.Series(dict(zip(X.columns, mi_scores)))\n",
    "\n",
    "    return mi_features.sort_values(ascending=False)"
   ]
  },
  {
   "cell_type": "code",
   "execution_count": 14,
   "metadata": {},
   "outputs": [],
   "source": [
    "def filter_by_mutual_information(X, y, hp=None):\n",
    "    \"\"\"\n",
    "    Use mutual information to filter out useless features\n",
    "    \"\"\"\n",
    "    threshold=0\n",
    "    if hp is not None:\n",
    "        threshold = hp['threshold']\n",
    "    mi_scores = mutual_information_ranking(X, y)\n",
    "    return X[[col for col in X if mi_scores[col] > threshold]]"
   ]
  },
  {
   "cell_type": "markdown",
   "metadata": {},
   "source": [
    "There are a LOT of features that provide 0 mutual information with the target variable, we can drop them."
   ]
  },
  {
   "cell_type": "markdown",
   "metadata": {},
   "source": [
    "# Correlations"
   ]
  },
  {
   "cell_type": "code",
   "execution_count": 15,
   "metadata": {},
   "outputs": [],
   "source": [
    "def heatmap(X):\n",
    "    corr = X.corr().dropna(how='all', axis=0).dropna(how='all', axis=1)\n",
    "    fig, ax = plt.subplots(1, 1, figsize = (10, 10), dpi=300)\n",
    "    sns.heatmap(corr,  linewidths=0, xticklabels=False, yticklabels=False)"
   ]
  },
  {
   "cell_type": "markdown",
   "metadata": {},
   "source": [
    "Not really too helpful lol"
   ]
  },
  {
   "cell_type": "code",
   "execution_count": 16,
   "metadata": {},
   "outputs": [],
   "source": [
    "def pairwise_correlation_ranking(X, threshold):\n",
    "    \"\"\"\n",
    "    Returns pairwise correlation of features ranked by absolute value, if above a certain threshold\n",
    "    \"\"\"\n",
    "    \n",
    "    corr = X.corr()\n",
    "    \n",
    "    corrdict = {}\n",
    "    for i in range(len(corr)):\n",
    "        for j in range(len(corr.columns)):\n",
    "            if i != j and np.abs(corr.iloc[i,j] > threshold):\n",
    "                corrdict[tuple(sorted([corr.columns[i], corr.columns[j]]))] = corr.iloc[i,j]\n",
    "    return np.array(sorted(corrdict.items(), key=lambda x: np.abs(x[1]), reverse=True), dtype=object)"
   ]
  },
  {
   "cell_type": "code",
   "execution_count": 17,
   "metadata": {},
   "outputs": [],
   "source": [
    "def filter_by_correlation(X, y, hp=None):\n",
    "    \"\"\"\n",
    "    Greedy filtering of features by correlation\n",
    "    \"\"\"\n",
    "    threshold = 0.8\n",
    "    if hp is not None:\n",
    "        threshold = hp['threshold']\n",
    "    correlations = pairwise_correlation_ranking(X, threshold)\n",
    "    while len(correlations) > 0:\n",
    "        worst_feature = mutual_information_ranking(X[list(correlations[0][0])], y).idxmin()\n",
    "        X.drop(worst_feature, axis=1, inplace=True)\n",
    "        correlations = pairwise_correlation_ranking(X, threshold)\n",
    "    return X"
   ]
  },
  {
   "cell_type": "markdown",
   "metadata": {},
   "source": [
    "# Pick best feature out of list"
   ]
  },
  {
   "cell_type": "code",
   "execution_count": 18,
   "metadata": {},
   "outputs": [],
   "source": [
    "def pick_best_n_features(X, y, metric = 'MI', n_features = 1):\n",
    "    \"\"\"\n",
    "    Returns the column name of the \"best\" feature, determined by either mutual information (MI) or F-score (F)\n",
    "    \"\"\"\n",
    "    \n",
    "    if metric == 'MI':\n",
    "        ranking = mutual_information_ranking(X, y)\n",
    "    elif metric == 'corr':\n",
    "        ranking = X.corrwith(y).sort_values(ascending=False)\n",
    "    \n",
    "    return ranking.index[:n_features]"
   ]
  },
  {
   "cell_type": "markdown",
   "metadata": {},
   "source": [
    "# Filter by best window"
   ]
  },
  {
   "cell_type": "code",
   "execution_count": 19,
   "metadata": {},
   "outputs": [],
   "source": [
    "def filter_by_best_window(X, y, hp=None):\n",
    "    \"\"\"\n",
    "    Filters features by picking the best window for each ticker\n",
    "    \"\"\"\n",
    "    \n",
    "    metric = 'MI'\n",
    "    if hp is not None:\n",
    "        metric = hp['metric']\n",
    "    \n",
    "    tickers = ['dxy', 'eem', 'aapl', 'amzn', 'msft', 'gld', 'tnx', 'vix', 'jnk']\n",
    "    for ticker in tickers:\n",
    "        cols = [col for col in X if ticker in col]\n",
    "        if len(cols) > 0:\n",
    "            X_sub = X[[col for col in X if ticker in col]]\n",
    "            best = pick_best_n_features(X_sub, y, metric=metric)[0]\n",
    "            X.drop(columns=[col for col in X_sub if col != best], inplace=True)\n",
    "    return X"
   ]
  },
  {
   "cell_type": "markdown",
   "metadata": {},
   "source": [
    "# k-best feature selection"
   ]
  },
  {
   "cell_type": "code",
   "execution_count": 20,
   "metadata": {},
   "outputs": [],
   "source": [
    "def k_best_feature_selection(X, y, hp=None ):\n",
    "    \"\"\"\n",
    "    Pull the top n features using a simple metric evaluation\n",
    "    \"\"\"\n",
    "    metric = 'MI'\n",
    "    n_features=10\n",
    "    \n",
    "    if hp is not None:\n",
    "        metric = hp['metric']\n",
    "        n_features = hp['n_features']\n",
    "    \n",
    "    top_n = pick_best_n_features(X, y, metric, n_features)\n",
    "    return X[[col for col in X if col in list(top_n)]]"
   ]
  },
  {
   "cell_type": "markdown",
   "metadata": {},
   "source": [
    "# Recursive feature elimination"
   ]
  },
  {
   "cell_type": "code",
   "execution_count": 21,
   "metadata": {},
   "outputs": [],
   "source": [
    "def rfe_feature_selection(X, y, hp=None):\n",
    "    \"\"\"\n",
    "    Uses sklearn's recursive feature elimination tool to pull top n features.\n",
    "    \"\"\"\n",
    "    n_features=10\n",
    "    \n",
    "    if hp is not None:\n",
    "        n_features = hp['n_features']\n",
    "    \n",
    "    estimator = DecisionTreeClassifier()\n",
    "    selector = RFE(estimator, n_features_to_select=n_features, step=1)\n",
    "\n",
    "    selector.fit(X, y)\n",
    "\n",
    "    rankings = pd.Series(dict(zip(X.columns, selector.ranking_)))\n",
    "\n",
    "    return X[[col for col in X if rankings[col] == 1]]"
   ]
  },
  {
   "cell_type": "markdown",
   "metadata": {},
   "source": [
    "# Random Forest"
   ]
  },
  {
   "cell_type": "code",
   "execution_count": 22,
   "metadata": {},
   "outputs": [],
   "source": [
    "def random_forest_feature_selection(X, y, hp=None):\n",
    "    \"\"\"\n",
    "    Use a random forest to select the n most important features.\n",
    "    \"\"\"\n",
    "    n_features = 10\n",
    "    \n",
    "    if hp is not None:\n",
    "        n_features = hp['n_features']\n",
    "    \n",
    "    rf = RandomForestClassifier(n_estimators=100)\n",
    "    \n",
    "    rf.fit(X, y)\n",
    "    \n",
    "    top_n = pd.Series(dict(zip(X.columns, rf.feature_importances_))).sort_values(ascending=False)[:n_features]\n",
    "    \n",
    "    return X[[col for col in X if col in list(top_n.index)]]\n"
   ]
  },
  {
   "cell_type": "markdown",
   "metadata": {},
   "source": [
    "# The Great AUC bakeoff\n",
    "\n",
    "I have no clue how to set hyperparameters for feature selection, so we're gonna try them all."
   ]
  },
  {
   "cell_type": "code",
   "execution_count": 19,
   "metadata": {},
   "outputs": [],
   "source": [
    "binary_thresholds = [0, 0.0005, 0.001]\n",
    "window = [1, 5, 10, 21]\n",
    "\n",
    "initial_filtering = [None, None, None, None, 'filter_by_variance', \n",
    "                     'filter_by_mutual_information', 'filter_by_correlation', \n",
    "                     'filter_by_best_window']\n",
    "\n",
    "feature_selection = ['k_best_feature_selection', 'rfe_feature_selection', 'random_forest_feature_selection']\n",
    "\n",
    "models = {\n",
    "    'filter_by_variance': filter_by_variance,\n",
    "    'filter_by_mutual_information': filter_by_mutual_information,\n",
    "    'filter_by_correlation': filter_by_correlation,\n",
    "    'filter_by_best_window': filter_by_best_window,\n",
    "    'k_best_feature_selection': k_best_feature_selection,\n",
    "    'rfe_feature_selection': rfe_feature_selection,\n",
    "    'random_forest_feature_selection': random_forest_feature_selection\n",
    "}\n",
    "\n",
    "hyperparams = {\n",
    "    'filter_by_variance': {\n",
    "        'threshold': [0, 1e-4, 1e-3, 1e-2, 1e-1]\n",
    "    },\n",
    "    'filter_by_mutual_information': {\n",
    "        'threshold': [0, 0.001, 0.002, 0.005, 0.01]\n",
    "    },\n",
    "    'filter_by_correlation': {\n",
    "        'threshold': [0.6, 0.7, 0.8, 0.9]\n",
    "    },\n",
    "    'filter_by_best_window': {\n",
    "        'metric': ['MI', 'corr']\n",
    "    },\n",
    "    'k_best_feature_selection': {\n",
    "        'metric': ['MI', 'corr'],\n",
    "        'n_features': [5, 8, 10, 15, 20]\n",
    "    },\n",
    "    'rfe_feature_selection': {\n",
    "        'n_features': [5, 8, 10, 15, 20],\n",
    "    },\n",
    "    'random_forest_feature_selection': {\n",
    "        'n_features': [5, 8, 10, 15, 20],\n",
    "    }\n",
    "    \n",
    "}"
   ]
  },
  {
   "cell_type": "markdown",
   "metadata": {},
   "source": [
    "# First bakeoff: choose threshold and target window"
   ]
  },
  {
   "cell_type": "code",
   "execution_count": 64,
   "metadata": {},
   "outputs": [
    {
     "name": "stdout",
     "output_type": "stream",
     "text": [
      "New high AUC for 1_day: 0.48726941590747563\n",
      "New high AUC for 1_day: 0.5147133649932157\n",
      "New high AUC for 1_day: 0.5344040061608168\n",
      "New high AUC for 1_day: 0.5386164792620793\n",
      "Done!\n",
      "New high AUC for 10_day: 0.5184924297627722\n",
      "New high AUC for 10_day: 0.5464780179742531\n",
      "New high AUC for 10_day: 0.5556371953687961\n",
      "Done!\n",
      "New high AUC for 21_day: 0.49797588500535606\n",
      "New high AUC for 21_day: 0.534308230155369\n",
      "New high AUC for 21_day: 0.5437336119305146\n",
      "New high AUC for 21_day: 0.5438579008993298\n",
      "New high AUC for 21_day: 0.5948759788412512\n",
      "Done!\n"
     ]
    }
   ],
   "source": [
    "if os.path.exists('setups.csv'):\n",
    "    setup_df = pd.read_csv('setups.csv', index_col=0)\n",
    "else:\n",
    "    setup_df = pd.DataFrame()\n",
    "\n",
    "if os.path.exists('feature_counts.csv'):\n",
    "    feature_counts = pd.read_csv('feature_counts.csv', index_col=0)\n",
    "else:\n",
    "    feature_counts = pd.DataFrame()\n",
    "\n",
    "for win in window:\n",
    "    for i in range(100):\n",
    "        bin_thresh = sample(binary_thresholds, 1)[0]\n",
    "        initial_filters = sample(initial_filtering, 3)\n",
    "        feature_selector = sample(feature_selection, 1)[0]\n",
    "\n",
    "        hps = {}\n",
    "\n",
    "        for model in initial_filters + [feature_selector]:\n",
    "            if model is not None:\n",
    "                hps[model] = {key: sample(value, 1)[0] for key, value in hyperparams[model].items()}\n",
    "\n",
    "        data, holdout = read_in_data(threshold=bin_thresh, window=win)\n",
    "\n",
    "        X, y = split_features_target(data)\n",
    "\n",
    "        for fil in initial_filters:\n",
    "            if fil is not None:\n",
    "                X = models[fil](X, y, hp=hps[fil])\n",
    "\n",
    "        X = models[feature_selector](X, y, hp=hps[feature_selector])\n",
    "\n",
    "        features = X.columns\n",
    "        for f in features:\n",
    "            if f'{win}_day' in feature_counts.columns and f in feature_counts.index:\n",
    "                feature_counts.at[f, f'{win}_day'] += 1\n",
    "            else:\n",
    "                feature_counts.at[f, f'{win}_day'] = 1\n",
    "\n",
    "        auc = decision_tree_auc(X, y)\n",
    "        new_high = False\n",
    "        if f'{win}_day' not in setup_df.columns or 'AUC' not in setup_df.index:\n",
    "            new_high = True\n",
    "        else: \n",
    "            if auc > float(setup_df.at['AUC', f'{win}_day']):\n",
    "                new_high = True\n",
    "        if new_high:\n",
    "            print(f'New high AUC for {win}_day: {auc}')\n",
    "\n",
    "            setup = {\n",
    "                'AUC': auc,\n",
    "                'binary_threshold': bin_thresh,\n",
    "                'initial_filters': initial_filters,\n",
    "                'feature_selection': feature_selector,\n",
    "                'hyperparameters': hps,\n",
    "                'features': features\n",
    "            }\n",
    "\n",
    "            setup_df[f'{win}_day'] = pd.Series(setup)\n",
    "            setup_df.to_csv('setups.csv')\n",
    "\n",
    "        feature_counts.to_csv('feature_counts.csv')\n",
    "print('Done!')"
   ]
  },
  {
   "cell_type": "code",
   "execution_count": null,
   "metadata": {},
   "outputs": [],
   "source": [
    "feature_counts = defaultdict(int)\n",
    "if os.path.exists('feature_counts_10d.csv'):\n",
    "    feature_counts = pd.read_csv('feature_counts_10d.csv', index_col=0, header=None)[1].to_dict(into=feature_counts)\n",
    "\n",
    "for i in range(9900):\n",
    "    bin_thresh = 0.001\n",
    "    win = 10\n",
    "    initial_filters = ['filter_by_best_window', 'filter_by_mutual_information']\n",
    "    feature_selector = sample(feature_selection, 1)[0]\n",
    "\n",
    "    hps = {}\n",
    "\n",
    "    for model in initial_filters + [feature_selector]:\n",
    "        if model is not None:\n",
    "            hps[model] = {key: sample(value, 1)[0] for key, value in hyperparams[model].items()}\n",
    "\n",
    "    data, holdout = read_in_data(threshold=bin_thresh, window=win)\n",
    "\n",
    "    X, y = split_features_target(data)\n",
    "\n",
    "    for fil in initial_filters:\n",
    "        if fil is not None:\n",
    "            X = models[fil](X, y, hp=hps[fil])\n",
    "    \n",
    "    if len(X.columns) > hps[feature_selector]['n_features']:\n",
    "        X = models[feature_selector](X, y, hp=hps[feature_selector])\n",
    "\n",
    "    features = X.columns\n",
    "    for f in features:\n",
    "        feature_counts[f] += 1\n",
    "    if i % 10 == 0:\n",
    "        dat = pd.Series(feature_counts).sort_values(ascending=False).to_csv('feature_counts_10d.csv', header=None)\n",
    "    if i % 100 == 0:\n",
    "        print(f'Finished {i}!')\n",
    "print('Done!')"
   ]
  },
  {
   "cell_type": "code",
   "execution_count": 48,
   "metadata": {},
   "outputs": [
    {
     "data": {
      "image/png": "[encoded data removed]",
      "text/plain": [
       "<Figure size 3000x3000 with 2 Axes>"
      ]
     },
     "metadata": {
      "needs_background": "light"
     },
     "output_type": "display_data"
    }
   ],
   "source": [
    "data, holdout = read_in_data(window=10)\n",
    "\n",
    "X, y = split_features_target(data)\n",
    "\n",
    "heatmap(X)"
   ]
  },
  {
   "cell_type": "code",
   "execution_count": 29,
   "metadata": {},
   "outputs": [],
   "source": [
    "data, holdout = read_in_data(window=10, threshold=0.001)\n",
    "\n",
    "X_train, y_train = split_features_target(data)\n",
    "X_test, y_test = split_features_target(holdout)"
   ]
  },
  {
   "cell_type": "code",
   "execution_count": 30,
   "metadata": {},
   "outputs": [
    {
     "data": {
      "text/plain": [
       "0    2677\n",
       "1    2309\n",
       "Name: label, dtype: int64"
      ]
     },
     "execution_count": 30,
     "metadata": {},
     "output_type": "execute_result"
    }
   ],
   "source": [
    "y_train.value_counts()\n"
   ]
  },
  {
   "cell_type": "code",
   "execution_count": 32,
   "metadata": {},
   "outputs": [
    {
     "data": {
      "text/plain": [
       "(4986, 129)"
      ]
     },
     "execution_count": 32,
     "metadata": {},
     "output_type": "execute_result"
    }
   ],
   "source": [
    "X_train.shape"
   ]
  },
  {
   "cell_type": "markdown",
   "metadata": {},
   "source": [
    "# Feature Ranking"
   ]
  },
  {
   "cell_type": "code",
   "execution_count": 21,
   "metadata": {},
   "outputs": [
    {
     "data": {
      "image/png": "[encoded data removed]",
      "text/plain": [
       "<Figure size 576x432 with 1 Axes>"
      ]
     },
     "metadata": {
      "needs_background": "light"
     },
     "output_type": "display_data"
    }
   ],
   "source": [
    "features = pd.read_csv('feature_counts_10d.csv', header=None, names=['ticker', 'count'])\n",
    "features['proportion'] = features['count']/10000\n",
    "\n",
    "x = list(features.ticker)\n",
    "xpos = [i for i, _ in enumerate(x)]\n",
    "prop = list(features.proportion)\n",
    "\n",
    "plt.figure(figsize=(8,6))\n",
    "plt.bar(xpos, prop, color='green')\n",
    "plt.plot([50 for i in range(1000)], np.linspace(0,1,1000), color='red', label='Top 50')\n",
    "plt.xlabel('Feature')\n",
    "plt.ylabel('Proportion of ocurrence')\n",
    "plt.title('Ocurrence proportion of all 98 Features')\n",
    "plt.legend()\n",
    "plt.show()"
   ]
  },
  {
   "cell_type": "code",
   "execution_count": 40,
   "metadata": {},
   "outputs": [
    {
     "data": {
      "text/plain": [
       "Text(0.5, 1.0, 'Ocurrence proportion of all 98 Features')"
      ]
     },
     "execution_count": 40,
     "metadata": {},
     "output_type": "execute_result"
    },
    {
     "data": {
      "image/png": "[encoded data removed]",
      "text/plain": [
       "<Figure size 576x432 with 1 Axes>"
      ]
     },
     "metadata": {
      "needs_background": "light"
     },
     "output_type": "display_data"
    }
   ],
   "source": [
    "features = pd.read_csv('feature_counts_10d.csv', header=None, names=['ticker', 'count'])\n",
    "features['proportion'] = features['count']/10000\n",
    "features = features[:30]\n",
    "\n",
    "x = list(features.ticker)\n",
    "xpos = [i for i, _ in enumerate(x)]\n",
    "prop = list(features.proportion)\n",
    "\n",
    "plt.figure(figsize=(8,6))\n",
    "plt.bar(xpos, prop, color='green')\n",
    "plt.xticks(xpos, x, rotation='vertical')\n",
    "plt.xlabel('Feature')\n",
    "plt.ylabel('Proportion of ocurrence')\n",
    "plt.title('Ocurrence proportion of top 30 Features')"
   ]
  },
  {
   "cell_type": "code",
   "execution_count": 52,
   "metadata": {},
   "outputs": [
    {
     "data": {
      "text/plain": [
       "Text(0.5, 1.0, 'Ocurrence proportion of top 10 Features')"
      ]
     },
     "execution_count": 52,
     "metadata": {},
     "output_type": "execute_result"
    },
    {
     "data": {
      "image/png": "[encoded data removed]",
      "text/plain": [
       "<Figure size 576x432 with 1 Axes>"
      ]
     },
     "metadata": {
      "needs_background": "light"
     },
     "output_type": "display_data"
    }
   ],
   "source": [
    "features = pd.read_csv('feature_counts_10d.csv', header=None, names=['ticker', 'count'])\n",
    "features['proportion'] = features['count']/10000\n",
    "features = features[:10]\n",
    "\n",
    "x = list(features.ticker)\n",
    "xpos = [i for i, _ in enumerate(x)]\n",
    "prop = list(features.proportion)\n",
    "\n",
    "plt.figure(figsize=(8,6))\n",
    "plt.bar(xpos, prop, color='green')\n",
    "plt.xticks(xpos, x, rotation='vertical')\n",
    "\n",
    "for i in range(len(xpos)):\n",
    "    plt.annotate(prop[i], (xpos[i]-0.45, prop[i]+0.01))\n",
    "plt.xlabel('Feature')\n",
    "plt.ylabel('Proportion of ocurrence')\n",
    "plt.title('Ocurrence proportion of top 10 Features')"
   ]
  },
  {
   "cell_type": "markdown",
   "metadata": {},
   "source": [
    "# Baseline Model"
   ]
  },
  {
   "cell_type": "code",
   "execution_count": 35,
   "metadata": {},
   "outputs": [
    {
     "name": "stdout",
     "output_type": "stream",
     "text": [
      "0.5278391673201682\n",
      "              volume        rsi   bb_high    bb_low       atr      macd  \\\n",
      "date                                                                      \n",
      "2015-01-12  34129800  44.714245  0.041478  0.018714  5.909265 -0.239065   \n",
      "2015-01-13  56162300  44.600221  0.041793  0.019222  5.993705 -0.299306   \n",
      "2015-01-14  51354200  42.426189  0.046971  0.014282  5.921294 -0.385555   \n",
      "2015-01-15  51005400  37.785961  0.058638  0.001326  5.899933 -0.548069   \n",
      "2015-01-16  35362200  43.707778  0.048437  0.013718  5.923328 -0.580430   \n",
      "...              ...        ...       ...       ...       ...       ...   \n",
      "2018-12-24  56163300  25.817716  0.166905 -0.023409  5.288293 -4.794291   \n",
      "2018-12-26  98982100  40.833343  0.122561  0.042409  5.679280 -4.676911   \n",
      "2018-12-27  85824300  41.670595  0.118756  0.050957  5.709331 -4.485148   \n",
      "2018-12-28  77856600  41.584682  0.114957  0.054098  5.614143 -4.290098   \n",
      "2018-12-31  53015300  43.604141  0.103592  0.063441  5.487828 -3.986720   \n",
      "\n",
      "                  mom        roc  dxy_daily  dxy_rolling_5_day  \\\n",
      "date                                                             \n",
      "2015-01-12  -3.317413  -3.322530     0.0004            0.00130   \n",
      "2015-01-13  -3.326943  -3.332709     0.0036            0.00176   \n",
      "2015-01-14  -3.193840  -3.220844    -0.0016            0.00058   \n",
      "2015-01-15  -3.421974  -3.486669     0.0021           -0.00004   \n",
      "2015-01-16  -2.015145  -2.059426     0.0018            0.00126   \n",
      "...               ...        ...        ...                ...   \n",
      "2018-12-24 -18.875519 -11.749219    -0.0042           -0.00110   \n",
      "2018-12-26 -10.555023  -6.548374     0.0052            0.00008   \n",
      "2018-12-27 -11.390778  -7.005223    -0.0059            0.00044   \n",
      "2018-12-28 -11.519058  -7.081969    -0.0008           -0.00114   \n",
      "2018-12-31  -6.284134  -3.959934    -0.0024           -0.00078   \n",
      "\n",
      "            dxy_rolling_10_day  dxy_rolling_14_day  dxy_rolling_21_day  \\\n",
      "date                                                                     \n",
      "2015-01-12             0.00197            0.001514            0.001919   \n",
      "2015-01-13             0.00255            0.001843            0.002038   \n",
      "2015-01-14             0.00208            0.001729            0.002143   \n",
      "2015-01-15             0.00229            0.001829            0.001695   \n",
      "2015-01-16             0.00157            0.001829            0.001729   \n",
      "...                        ...                 ...                 ...   \n",
      "2018-12-24            -0.00068           -0.000300           -0.000176   \n",
      "2018-12-26             0.00003            0.000193           -0.000148   \n",
      "2018-12-27            -0.00058           -0.000007           -0.000143   \n",
      "2018-12-28            -0.00105           -0.000593           -0.000176   \n",
      "2018-12-31            -0.00094           -0.000886           -0.000533   \n",
      "\n",
      "            dxy_rolling_30_day  eem_daily  eem_rolling_5_day  \\\n",
      "date                                                           \n",
      "2015-01-12            0.001507  -0.008149           0.004602   \n",
      "2015-01-13            0.001360   0.008729           0.007188   \n",
      "2015-01-14            0.001190  -0.005599           0.001744   \n",
      "2015-01-15            0.001357   0.002304          -0.001203   \n",
      "2015-01-16            0.001180   0.008427           0.001142   \n",
      "...                        ...        ...                ...   \n",
      "2018-12-24           -0.000330  -0.009346          -0.003666   \n",
      "2018-12-26            0.000097   0.019916          -0.001041   \n",
      "2018-12-27           -0.000143  -0.001285           0.002024   \n",
      "2018-12-28           -0.000013   0.009519           0.002369   \n",
      "2018-12-31            0.000003  -0.004587           0.002844   \n",
      "\n",
      "            eem_rolling_10_day  eem_rolling_14_day  eem_rolling_21_day  \\\n",
      "date                                                                     \n",
      "2015-01-12           -0.001130            0.000264            0.000314   \n",
      "2015-01-13            0.000351           -0.000106            0.001130   \n",
      "2015-01-14           -0.000413            0.000147            0.001645   \n",
      "2015-01-15           -0.000259            0.000147            0.002438   \n",
      "2015-01-16            0.001907            0.000183            0.002915   \n",
      "...                        ...                 ...                 ...   \n",
      "2018-12-24           -0.001802           -0.005554           -0.001698   \n",
      "2018-12-26           -0.000571           -0.002615           -0.000193   \n",
      "2018-12-27           -0.002334           -0.002045           -0.000841   \n",
      "2018-12-28           -0.001358           -0.000029           -0.000719   \n",
      "2018-12-31           -0.000405            0.000396           -0.002078   \n",
      "\n",
      "            eem_rolling_30_day  aapl_daily  aapl_rolling_5_day  \\\n",
      "date                                                             \n",
      "2015-01-12           -0.002242   -0.024641            0.005794   \n",
      "2015-01-13           -0.001282    0.008879            0.007551   \n",
      "2015-01-14           -0.000899   -0.003811            0.003984   \n",
      "2015-01-15           -0.000814   -0.027140           -0.009128   \n",
      "2015-01-16           -0.000623   -0.007770           -0.010897   \n",
      "...                        ...         ...                 ...   \n",
      "2018-12-24           -0.001433   -0.025874           -0.021641   \n",
      "2018-12-26           -0.000152    0.070422           -0.010155   \n",
      "2018-12-27            0.000274   -0.006490           -0.005215   \n",
      "2018-12-28            0.000209    0.000512           -0.000065   \n",
      "2018-12-31           -0.000145    0.009665            0.009647   \n",
      "\n",
      "            aapl_rolling_10_day  aapl_rolling_14_day  aapl_rolling_21_day  \\\n",
      "date                                                                        \n",
      "2015-01-12            -0.004064            -0.001488            -0.001012   \n",
      "2015-01-13            -0.003106            -0.001595            -0.000449   \n",
      "2015-01-14            -0.002266            -0.001614             0.000176   \n",
      "2015-01-15            -0.003079            -0.003217            -0.000465   \n",
      "2015-01-16            -0.002904            -0.005034            -0.000184   \n",
      "...                         ...                  ...                  ...   \n",
      "2018-12-24            -0.014150            -0.016122            -0.008545   \n",
      "2018-12-26            -0.006536            -0.007950            -0.003982   \n",
      "2018-12-27            -0.007464            -0.007617            -0.004935   \n",
      "2018-12-28            -0.008506            -0.005033            -0.004807   \n",
      "2018-12-31            -0.004340            -0.004814            -0.006178   \n",
      "\n",
      "            aapl_rolling_30_day  amzn_daily  amzn_rolling_5_day  \\\n",
      "date                                                              \n",
      "2015-01-12            -0.002705   -0.018590           -0.007147   \n",
      "2015-01-13            -0.002389    0.011427           -0.000295   \n",
      "2015-01-14            -0.001434   -0.004987           -0.003413   \n",
      "2015-01-15            -0.002211   -0.021550           -0.009090   \n",
      "2015-01-16            -0.002848    0.013208           -0.004099   \n",
      "...                         ...         ...                 ...   \n",
      "2018-12-24            -0.011338   -0.024313           -0.024110   \n",
      "2018-12-26            -0.008347    0.094452           -0.009240   \n",
      "2018-12-27            -0.006885   -0.006295           -0.003228   \n",
      "2018-12-28            -0.006535    0.011207            0.003595   \n",
      "2018-12-31            -0.005271    0.016204            0.018251   \n",
      "\n",
      "            amzn_rolling_10_day  amzn_rolling_14_day  amzn_rolling_21_day  \\\n",
      "date                                                                        \n",
      "2015-01-12            -0.005802            -0.001953            -0.002198   \n",
      "2015-01-13            -0.005614            -0.002718            -0.001890   \n",
      "2015-01-14            -0.005555            -0.003016            -0.002122   \n",
      "2015-01-15            -0.007726            -0.003795            -0.002954   \n",
      "2015-01-16            -0.005816            -0.004280            -0.000612   \n",
      "...                         ...                  ...                  ...   \n",
      "2018-12-24            -0.019463            -0.019197            -0.005173   \n",
      "2018-12-26            -0.010153            -0.008261            -0.000215   \n",
      "2018-12-27            -0.012018            -0.010029            -0.003028   \n",
      "2018-12-28            -0.010587            -0.006283            -0.002497   \n",
      "2018-12-31            -0.004958            -0.005648            -0.004626   \n",
      "\n",
      "            amzn_rolling_30_day  msft_daily  msft_rolling_5_day  \\\n",
      "date                                                              \n",
      "2015-01-12            -0.004365   -0.012503            0.001308   \n",
      "2015-01-13            -0.004491   -0.005150            0.003213   \n",
      "2015-01-14            -0.003413   -0.008628           -0.001054   \n",
      "2015-01-15            -0.004163   -0.010444           -0.009026   \n",
      "2015-01-16            -0.002721    0.016711           -0.004003   \n",
      "...                         ...         ...                 ...   \n",
      "2018-12-24            -0.008376   -0.041739           -0.017454   \n",
      "2018-12-26            -0.004421    0.068310           -0.005892   \n",
      "2018-12-27            -0.003159    0.006166           -0.004120   \n",
      "2018-12-28            -0.002670   -0.007808           -0.001477   \n",
      "2018-12-31            -0.001473    0.011754            0.007337   \n",
      "\n",
      "            msft_rolling_10_day  msft_rolling_14_day  msft_rolling_21_day  \\\n",
      "date                                                                        \n",
      "2015-01-12            -0.002615            -0.001531            -0.000189   \n",
      "2015-01-13            -0.002232            -0.002379            -0.000708   \n",
      "2015-01-14            -0.002188            -0.003695            -0.000897   \n",
      "2015-01-15            -0.002021            -0.003984            -0.001110   \n",
      "2015-01-16            -0.001017            -0.002404             0.001226   \n",
      "...                         ...                  ...                  ...   \n",
      "2018-12-24            -0.013093            -0.012158            -0.004065   \n",
      "2018-12-26            -0.007192            -0.005003            -0.000793   \n",
      "2018-12-27            -0.007027            -0.005004            -0.002071   \n",
      "2018-12-28            -0.008147            -0.002703            -0.002742   \n",
      "2018-12-31            -0.003846            -0.003751            -0.003951   \n",
      "\n",
      "            msft_rolling_30_day  gld_daily  gld_rolling_5_day  \\\n",
      "date                                                            \n",
      "2015-01-12            -0.000712   0.011086           0.004754   \n",
      "2015-01-13            -0.000926  -0.003374           0.001800   \n",
      "2015-01-14            -0.001778  -0.001608           0.002656   \n",
      "2015-01-15            -0.002016   0.025176           0.008533   \n",
      "2015-01-16            -0.001198   0.013064           0.008869   \n",
      "...                         ...        ...                ...   \n",
      "2018-12-24            -0.005319   0.010950           0.003657   \n",
      "2018-12-26            -0.002391  -0.002999           0.002582   \n",
      "2018-12-27            -0.001364   0.007605           0.005322   \n",
      "2018-12-28            -0.001646   0.004064           0.003052   \n",
      "2018-12-31            -0.000782   0.001569           0.004238   \n",
      "\n",
      "            gld_rolling_10_day  gld_rolling_14_day  gld_rolling_21_day  \\\n",
      "date                                                                     \n",
      "2015-01-12            0.003255            0.002387            0.000305   \n",
      "2015-01-13            0.003927            0.003528            0.000254   \n",
      "2015-01-14            0.002421            0.003293            0.000291   \n",
      "2015-01-15            0.006344            0.005072            0.002714   \n",
      "2015-01-16            0.007211            0.004700            0.003103   \n",
      "...                        ...                 ...                 ...   \n",
      "2018-12-24            0.001993            0.002203            0.001697   \n",
      "2018-12-26            0.001812            0.001553            0.001591   \n",
      "2018-12-27            0.002360            0.002084            0.002007   \n",
      "2018-12-28            0.002987            0.001795            0.002485   \n",
      "2018-12-31            0.003544            0.002155            0.002381   \n",
      "\n",
      "            gld_rolling_30_day  tnx_daily  tnx_rolling_5_day  \\\n",
      "date                                                           \n",
      "2015-01-12            0.001069  -0.029934          -0.005022   \n",
      "2015-01-13            0.001839  -0.011506          -0.006406   \n",
      "2015-01-14            0.000457  -0.028042          -0.018361   \n",
      "2015-01-15            0.001708  -0.033751          -0.020647   \n",
      "2015-01-16            0.001799   0.022535          -0.016140   \n",
      "...                        ...        ...                ...   \n",
      "2018-12-24            0.001216   0.000000          -0.002320   \n",
      "2018-12-26            0.001490   0.001791           0.001365   \n",
      "2018-12-27            0.001983  -0.019306          -0.003288   \n",
      "2018-12-28            0.002106  -0.002552          -0.004014   \n",
      "2018-12-31            0.001883  -0.018275          -0.007668   \n",
      "\n",
      "            tnx_rolling_10_day  tnx_rolling_14_day  tnx_rolling_21_day  \\\n",
      "date                                                                     \n",
      "2015-01-12           -0.013274           -0.011618           -0.003553   \n",
      "2015-01-13           -0.013512           -0.012219           -0.005871   \n",
      "2015-01-14           -0.014150           -0.014222           -0.008448   \n",
      "2015-01-15           -0.017525           -0.015267           -0.009450   \n",
      "2015-01-16           -0.011315           -0.013108           -0.008377   \n",
      "...                        ...                 ...                 ...   \n",
      "2018-12-24           -0.003971           -0.001441           -0.004073   \n",
      "2018-12-26           -0.003964           -0.001313           -0.003847   \n",
      "2018-12-27           -0.005208           -0.002843           -0.004421   \n",
      "2018-12-28           -0.005463           -0.003600           -0.004543   \n",
      "2018-12-31           -0.004994           -0.005698           -0.003999   \n",
      "\n",
      "            tnx_rolling_30_day  vix_daily  vix_rolling_5_day  \\\n",
      "date                                                           \n",
      "2015-01-12           -0.006034   0.116809           0.000797   \n",
      "2015-01-13           -0.006417   0.048980          -0.001455   \n",
      "2015-01-14           -0.006630   0.044747           0.024635   \n",
      "2015-01-15           -0.007208   0.042365           0.056929   \n",
      "2015-01-16           -0.005691  -0.064314           0.037717   \n",
      "...                        ...        ...                ...   \n",
      "2018-12-24           -0.003176   0.197941           0.082318   \n",
      "2018-12-26           -0.003116  -0.156917           0.042289   \n",
      "2018-12-27           -0.003576  -0.014798           0.039329   \n",
      "2018-12-28           -0.003563  -0.054072           0.006622   \n",
      "2018-12-31           -0.004314  -0.103035          -0.026176   \n",
      "\n",
      "            vix_rolling_10_day  vix_rolling_14_day  vix_rolling_21_day  \\\n",
      "date                                                                     \n",
      "2015-01-12            0.035203            0.016237            0.007342   \n",
      "2015-01-13            0.036239            0.025107            0.005691   \n",
      "2015-01-14            0.035004            0.030411            0.005450   \n",
      "2015-01-15            0.018637            0.035512            0.008958   \n",
      "2015-01-16            0.019549            0.030272           -0.001450   \n",
      "...                        ...                 ...                 ...   \n",
      "2018-12-24            0.050226            0.061170            0.030259   \n",
      "2018-12-26            0.038421            0.031279            0.021138   \n",
      "2018-12-27            0.038320            0.028673            0.026231   \n",
      "2018-12-28            0.036687            0.017934            0.023354   \n",
      "2018-12-31            0.021638            0.012388            0.019775   \n",
      "\n",
      "            vix_rolling_30_day  jnk_daily  jnk_rolling_5_day  \\\n",
      "date                                                           \n",
      "2015-01-12            0.021147  -0.001028           0.002394   \n",
      "2015-01-13            0.019300  -0.001029           0.003125   \n",
      "2015-01-14            0.018716  -0.002318           0.001563   \n",
      "2015-01-15            0.023212  -0.005679          -0.000925   \n",
      "2015-01-16            0.021976   0.002856          -0.001440   \n",
      "...                        ...        ...                ...   \n",
      "2018-12-24            0.029733  -0.007530          -0.007105   \n",
      "2018-12-26            0.023227   0.016995          -0.003123   \n",
      "2018-12-27            0.016800  -0.000597          -0.001439   \n",
      "2018-12-28            0.015699   0.001493           0.000875   \n",
      "2018-12-31            0.010216   0.001491           0.002370   \n",
      "\n",
      "            jnk_rolling_10_day  jnk_rolling_14_day  jnk_rolling_21_day  \\\n",
      "date                                                                     \n",
      "2015-01-12            0.000281            0.000312            0.000929   \n",
      "2015-01-13            0.000062            0.000330            0.001179   \n",
      "2015-01-14           -0.000093           -0.000056            0.001631   \n",
      "2015-01-15           -0.000222           -0.000664            0.001221   \n",
      "2015-01-16           -0.000118           -0.000240            0.001711   \n",
      "...                        ...                 ...                 ...   \n",
      "2018-12-24           -0.003839           -0.003545           -0.001790   \n",
      "2018-12-26           -0.002401           -0.001962           -0.000760   \n",
      "2018-12-27           -0.002751           -0.001695           -0.000996   \n",
      "2018-12-28           -0.002861           -0.001527           -0.000925   \n",
      "2018-12-31           -0.002280           -0.001358           -0.001212   \n",
      "\n",
      "            jnk_rolling_30_day  return_1d  return_5d  return_10d  return_21d  \\\n",
      "date                                                                           \n",
      "2015-01-12           -0.000599  -0.010427   0.000237   -0.003373   -0.000641   \n",
      "2015-01-13           -0.000300  -0.000296   0.002881   -0.003384   -0.000880   \n",
      "2015-01-14           -0.000121  -0.005516  -0.000791   -0.003269   -0.000622   \n",
      "2015-01-15           -0.000412  -0.012975  -0.007169   -0.003543   -0.000750   \n",
      "2015-01-16           -0.000317   0.011741  -0.003533   -0.002079    0.000576   \n",
      "...                        ...        ...        ...         ...         ...   \n",
      "2018-12-24           -0.002013  -0.024798  -0.017798   -0.012421   -0.005143   \n",
      "2018-12-26           -0.001239   0.062439  -0.007073   -0.006750   -0.001925   \n",
      "2018-12-27           -0.001051   0.003870  -0.001352   -0.007236   -0.002827   \n",
      "2018-12-28           -0.000953  -0.000523   0.001464   -0.007318   -0.003012   \n",
      "2018-12-31           -0.000827   0.008433   0.009483   -0.004032   -0.004117   \n",
      "\n",
      "            return_42d  return_63d  CDL2CROWS  CDL3BLACKCROWS  CDL3INSIDE  \\\n",
      "date                                                                        \n",
      "2015-01-12   -0.000007    0.001212          0               0           0   \n",
      "2015-01-13   -0.000089    0.001458          0               0           0   \n",
      "2015-01-14   -0.000263    0.001369          0               0           0   \n",
      "2015-01-15   -0.000675    0.001264          0               0           0   \n",
      "2015-01-16   -0.000471    0.001550          0               0           0   \n",
      "...                ...         ...        ...             ...         ...   \n",
      "2018-12-24   -0.004411   -0.003884          0               0           0   \n",
      "2018-12-26   -0.001861   -0.002947          0               0           0   \n",
      "2018-12-27   -0.002577   -0.002897          0               0           0   \n",
      "2018-12-28   -0.001971   -0.003039          0               0           0   \n",
      "2018-12-31   -0.001277   -0.002902          0               0           0   \n",
      "\n",
      "            CDL3LINESTRIKE  CDL3OUTSIDE  CDL3STARSINSOUTH  CDL3WHITESOLDIERS  \\\n",
      "date                                                                           \n",
      "2015-01-12               0            0                 0                  0   \n",
      "2015-01-13               0            0                 0                  0   \n",
      "2015-01-14               0            0                 0                  0   \n",
      "2015-01-15               0            0                 0                  0   \n",
      "2015-01-16               0            0                 0                  0   \n",
      "...                    ...          ...               ...                ...   \n",
      "2018-12-24               0            0                 0                  0   \n",
      "2018-12-26               0            0                 0                  0   \n",
      "2018-12-27               0            0                 0                  0   \n",
      "2018-12-28               0            0                 0                  0   \n",
      "2018-12-31               0            0                 0                  0   \n",
      "\n",
      "            CDLABANDONEDBABY  CDLADVANCEBLOCK  CDLBELTHOLD  CDLBREAKAWAY  \\\n",
      "date                                                                       \n",
      "2015-01-12                 0                0         -100             0   \n",
      "2015-01-13                 0                0            0             0   \n",
      "2015-01-14                 0                0            0             0   \n",
      "2015-01-15                 0                0         -100             0   \n",
      "2015-01-16                 0                0            0             0   \n",
      "...                      ...              ...          ...           ...   \n",
      "2018-12-24                 0                0            0             0   \n",
      "2018-12-26                 0                0            0             0   \n",
      "2018-12-27                 0                0            0             0   \n",
      "2018-12-28                 0                0            0             0   \n",
      "2018-12-31                 0                0            0             0   \n",
      "\n",
      "            CDLCLOSINGMARUBOZU  CDLCONCEALBABYSWALL  CDLCOUNTERATTACK  \\\n",
      "date                                                                    \n",
      "2015-01-12                -100                    0                 0   \n",
      "2015-01-13                -100                    0                 0   \n",
      "2015-01-14                   0                    0                 0   \n",
      "2015-01-15                -100                    0                 0   \n",
      "2015-01-16                   0                    0                 0   \n",
      "...                        ...                  ...               ...   \n",
      "2018-12-24                -100                    0                 0   \n",
      "2018-12-26                   0                    0                 0   \n",
      "2018-12-27                   0                    0                 0   \n",
      "2018-12-28                   0                    0                 0   \n",
      "2018-12-31                   0                    0                 0   \n",
      "\n",
      "            CDLDARKCLOUDCOVER  CDLDOJI  CDLDOJISTAR  CDLDRAGONFLYDOJI  \\\n",
      "date                                                                    \n",
      "2015-01-12                  0        0            0                 0   \n",
      "2015-01-13                  0        0            0                 0   \n",
      "2015-01-14                  0        0            0                 0   \n",
      "2015-01-15                  0        0            0                 0   \n",
      "2015-01-16                  0        0            0                 0   \n",
      "...                       ...      ...          ...               ...   \n",
      "2018-12-24                  0        0            0                 0   \n",
      "2018-12-26                  0        0            0                 0   \n",
      "2018-12-27                  0        0            0                 0   \n",
      "2018-12-28                  0        0            0                 0   \n",
      "2018-12-31                  0        0            0                 0   \n",
      "\n",
      "            CDLENGULFING  CDLEVENINGDOJISTAR  CDLEVENINGSTAR  \\\n",
      "date                                                           \n",
      "2015-01-12             0                   0               0   \n",
      "2015-01-13             0                   0               0   \n",
      "2015-01-14             0                   0               0   \n",
      "2015-01-15             0                   0               0   \n",
      "2015-01-16             0                   0               0   \n",
      "...                  ...                 ...             ...   \n",
      "2018-12-24             0                   0               0   \n",
      "2018-12-26             0                   0               0   \n",
      "2018-12-27             0                   0               0   \n",
      "2018-12-28             0                   0               0   \n",
      "2018-12-31             0                   0               0   \n",
      "\n",
      "            CDLGAPSIDESIDEWHITE  CDLGRAVESTONEDOJI  CDLHAMMER  CDLHANGINGMAN  \\\n",
      "date                                                                           \n",
      "2015-01-12                    0                  0          0              0   \n",
      "2015-01-13                    0                  0          0              0   \n",
      "2015-01-14                    0                  0          0              0   \n",
      "2015-01-15                    0                  0          0              0   \n",
      "2015-01-16                    0                  0          0              0   \n",
      "...                         ...                ...        ...            ...   \n",
      "2018-12-24                    0                  0          0              0   \n",
      "2018-12-26                    0                  0          0              0   \n",
      "2018-12-27                    0                  0          0              0   \n",
      "2018-12-28                    0                  0          0              0   \n",
      "2018-12-31                    0                  0          0              0   \n",
      "\n",
      "            CDLHARAMI  CDLHARAMICROSS  CDLHIGHWAVE  CDLHIKKAKE  CDLHIKKAKEMOD  \\\n",
      "date                                                                            \n",
      "2015-01-12          0               0            0           0              0   \n",
      "2015-01-13          0               0            0           0              0   \n",
      "2015-01-14          0               0            0           0              0   \n",
      "2015-01-15          0               0            0           0              0   \n",
      "2015-01-16        100               0            0           0              0   \n",
      "...               ...             ...          ...         ...            ...   \n",
      "2018-12-24          0               0            0           0              0   \n",
      "2018-12-26          0               0            0           0              0   \n",
      "2018-12-27          0               0          100           0              0   \n",
      "2018-12-28          0               0            0           0              0   \n",
      "2018-12-31          0               0            0           0              0   \n",
      "\n",
      "            CDLHOMINGPIGEON  CDLIDENTICAL3CROWS  CDLINNECK  CDLINVERTEDHAMMER  \\\n",
      "date                                                                            \n",
      "2015-01-12                0                   0          0                  0   \n",
      "2015-01-13                0                   0          0                  0   \n",
      "2015-01-14                0                   0          0                  0   \n",
      "2015-01-15                0                   0          0                  0   \n",
      "2015-01-16              100                   0          0                  0   \n",
      "...                     ...                 ...        ...                ...   \n",
      "2018-12-24                0                   0          0                  0   \n",
      "2018-12-26                0                   0          0                  0   \n",
      "2018-12-27                0                   0          0                  0   \n",
      "2018-12-28                0                   0          0                  0   \n",
      "2018-12-31                0                   0          0                  0   \n",
      "\n",
      "            CDLKICKING  CDLKICKINGBYLENGTH  CDLLADDERBOTTOM  \\\n",
      "date                                                          \n",
      "2015-01-12           0                   0                0   \n",
      "2015-01-13           0                   0                0   \n",
      "2015-01-14           0                   0                0   \n",
      "2015-01-15           0                   0                0   \n",
      "2015-01-16           0                   0                0   \n",
      "...                ...                 ...              ...   \n",
      "2018-12-24           0                   0                0   \n",
      "2018-12-26           0                   0                0   \n",
      "2018-12-27           0                   0                0   \n",
      "2018-12-28           0                   0                0   \n",
      "2018-12-31           0                   0                0   \n",
      "\n",
      "            CDLLONGLEGGEDDOJI  CDLLONGLINE  CDLMARUBOZU  CDLMATCHINGLOW  \\\n",
      "date                                                                      \n",
      "2015-01-12                  0            0         -100               0   \n",
      "2015-01-13                  0            0            0             100   \n",
      "2015-01-14                  0            0            0               0   \n",
      "2015-01-15                  0            0         -100               0   \n",
      "2015-01-16                  0            0            0               0   \n",
      "...                       ...          ...          ...             ...   \n",
      "2018-12-24                  0            0            0               0   \n",
      "2018-12-26                  0            0            0               0   \n",
      "2018-12-27                  0            0            0               0   \n",
      "2018-12-28                  0            0            0               0   \n",
      "2018-12-31                  0            0            0               0   \n",
      "\n",
      "            CDLMATHOLD  CDLMORNINGDOJISTAR  CDLMORNINGSTAR  CDLONNECK  \\\n",
      "date                                                                    \n",
      "2015-01-12           0                   0               0          0   \n",
      "2015-01-13           0                   0               0          0   \n",
      "2015-01-14           0                   0               0          0   \n",
      "2015-01-15           0                   0               0          0   \n",
      "2015-01-16           0                   0               0          0   \n",
      "...                ...                 ...             ...        ...   \n",
      "2018-12-24           0                   0               0          0   \n",
      "2018-12-26           0                   0               0          0   \n",
      "2018-12-27           0                   0               0          0   \n",
      "2018-12-28           0                   0               0          0   \n",
      "2018-12-31           0                   0               0          0   \n",
      "\n",
      "            CDLPIERCING  CDLRICKSHAWMAN  CDLRISEFALL3METHODS  \\\n",
      "date                                                           \n",
      "2015-01-12            0               0                    0   \n",
      "2015-01-13            0               0                    0   \n",
      "2015-01-14            0               0                    0   \n",
      "2015-01-15            0               0                    0   \n",
      "2015-01-16            0               0                    0   \n",
      "...                 ...             ...                  ...   \n",
      "2018-12-24            0               0                    0   \n",
      "2018-12-26            0               0                    0   \n",
      "2018-12-27            0               0                    0   \n",
      "2018-12-28            0               0                    0   \n",
      "2018-12-31            0               0                    0   \n",
      "\n",
      "            CDLSEPARATINGLINES  CDLSHOOTINGSTAR  CDLSHORTLINE  CDLSPINNINGTOP  \\\n",
      "date                                                                            \n",
      "2015-01-12                   0                0             0               0   \n",
      "2015-01-13                   0                0             0               0   \n",
      "2015-01-14                   0                0             0               0   \n",
      "2015-01-15                   0                0             0               0   \n",
      "2015-01-16                   0                0             0               0   \n",
      "...                        ...              ...           ...             ...   \n",
      "2018-12-24                   0                0             0               0   \n",
      "2018-12-26                   0                0             0               0   \n",
      "2018-12-27                   0                0             0             100   \n",
      "2018-12-28                   0                0             0               0   \n",
      "2018-12-31                   0                0          -100               0   \n",
      "\n",
      "            CDLSTALLEDPATTERN  CDLSTICKSANDWICH  CDLTAKURI  CDLTASUKIGAP  \\\n",
      "date                                                                       \n",
      "2015-01-12                  0                 0          0             0   \n",
      "2015-01-13                  0                 0          0             0   \n",
      "2015-01-14                  0                 0          0             0   \n",
      "2015-01-15                  0                 0          0             0   \n",
      "2015-01-16                  0                 0          0             0   \n",
      "...                       ...               ...        ...           ...   \n",
      "2018-12-24                  0                 0          0             0   \n",
      "2018-12-26                  0                 0          0             0   \n",
      "2018-12-27                  0                 0          0             0   \n",
      "2018-12-28                  0                 0          0             0   \n",
      "2018-12-31                  0                 0          0             0   \n",
      "\n",
      "            CDLTHRUSTING  CDLTRISTAR  CDLUNIQUE3RIVER  CDLUPSIDEGAP2CROWS  \\\n",
      "date                                                                        \n",
      "2015-01-12             0           0                0                   0   \n",
      "2015-01-13             0           0                0                   0   \n",
      "2015-01-14             0           0                0                   0   \n",
      "2015-01-15             0           0                0                   0   \n",
      "2015-01-16             0           0                0                   0   \n",
      "...                  ...         ...              ...                 ...   \n",
      "2018-12-24             0           0                0                   0   \n",
      "2018-12-26             0           0                0                   0   \n",
      "2018-12-27             0           0                0                   0   \n",
      "2018-12-28             0           0                0                   0   \n",
      "2018-12-31             0           0                0                   0   \n",
      "\n",
      "            CDLXSIDEGAP3METHODS  label  \n",
      "date                                    \n",
      "2015-01-12                    0      0  \n",
      "2015-01-13                    0      0  \n",
      "2015-01-14                    0      0  \n",
      "2015-01-15                    0      1  \n",
      "2015-01-16                    0      1  \n",
      "...                         ...    ...  \n",
      "2018-12-24                    0      1  \n",
      "2018-12-26                    0      1  \n",
      "2018-12-27                    0      1  \n",
      "2018-12-28                    0      1  \n",
      "2018-12-31                    0      1  \n",
      "\n",
      "[1000 rows x 130 columns]\n"
     ]
    }
   ],
   "source": [
    "data, holdout = read_in_data(window=10, threshold=0.001)\n",
    "data = data[-1000:]\n",
    "\n",
    "features = pd.read_csv('feature_counts_10d.csv', header=None, index_col=0)\n",
    "feature_list = list(features.index)[:10]\n",
    "\n",
    "X_train, y_train = split_features_target(data)\n",
    "X_test, y_test = split_features_target(holdout)\n",
    "\n",
    "X_train = X_train[feature_list]\n",
    "X_test = X_test[feature_list]\n",
    "\n",
    "baseline_tree = DecisionTreeClassifier().fit(X_train, y_train)\n",
    "\n",
    "y_pred = baseline_tree.predict_proba(X_test)[:,1]\n",
    "\n",
    "auc = roc_auc_score(y_test, y_pred)\n",
    "\n",
    "print(auc)\n",
    "print(data)"
   ]
  },
  {
   "cell_type": "code",
   "execution_count": 34,
   "metadata": {},
   "outputs": [
    {
     "data": {
      "text/plain": [
       "Text(0.5, 1.0, 'ROC Curve of Baseline Decision Tree')"
      ]
     },
     "execution_count": 34,
     "metadata": {},
     "output_type": "execute_result"
    },
    {
     "data": {
      "image/png": "[encoded data removed]",
      "text/plain": [
       "<Figure size 720x576 with 1 Axes>"
      ]
     },
     "metadata": {
      "needs_background": "light"
     },
     "output_type": "display_data"
    }
   ],
   "source": [
    "fpr, tpr, thresholds = roc_curve(y_test, y_pred)\n",
    "\n",
    "\n",
    "plt.figure(figsize=(10,8))\n",
    "plt.plot(fpr, tpr, label=f'AUC={auc}')\n",
    "plt.xlabel('False Positive Rate')\n",
    "plt.ylabel('True Positive Rate')\n",
    "plt.legend()\n",
    "plt.title('ROC Curve of Baseline Decision Tree')"
   ]
  },
  {
   "cell_type": "code",
   "execution_count": 5,
   "metadata": {},
   "outputs": [],
   "source": [
    "from sklearn.svm import SVC"
   ]
  },
  {
   "cell_type": "code",
   "execution_count": null,
   "metadata": {},
   "outputs": [],
   "source": [
    "data, holdout = read_in_data(window=10, threshold=0.001)\n",
    "data = data[-1000:]\n",
    "\n",
    "features = pd.read_csv('feature_counts_10d.csv', header=None, index_col=0)\n",
    "feature_list = list(features.index)[:5]\n",
    "\n",
    "X_train, y_train = split_features_target(data)\n",
    "X_test, y_test = split_features_target(holdout)\n",
    "\n",
    "final_SVM = SVC(C=0.1, kernel='linear', probability=True).fit(X_train, y_train)\n",
    "\n",
    "y_pred = final_SVM.predict_proba(X_test)[:,1]\n",
    "\n",
    "auc = roc_auc_score(y_test, y_pred)\n",
    "auc"
   ]
  },
  {
   "cell_type": "code",
   "execution_count": null,
   "metadata": {},
   "outputs": [],
   "source": []
  }
 ],
 "metadata": {
  "kernelspec": {
   "display_name": "Python 3",
   "language": "python",
   "name": "python3"
  },
  "language_info": {
   "codemirror_mode": {
    "name": "ipython",
    "version": 3
   },
   "file_extension": ".py",
   "mimetype": "text/x-python",
   "name": "python",
   "nbconvert_exporter": "python",
   "pygments_lexer": "ipython3",
   "version": "3.8.5"
  }
 },
 "nbformat": 4,
 "nbformat_minor": 4
}
