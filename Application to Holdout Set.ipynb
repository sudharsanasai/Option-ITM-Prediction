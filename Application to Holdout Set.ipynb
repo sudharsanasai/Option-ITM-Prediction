{
 "cells": [
  {
   "cell_type": "code",
   "execution_count": 1,
   "metadata": {},
   "outputs": [],
   "source": [
    "import pandas as pd\n",
    "import numpy as np\n",
    "import seaborn as sns\n",
    "import matplotlib.pyplot as plt\n",
    "\n",
    "import warnings\n",
    "warnings.filterwarnings('ignore')\n",
    "import pickle\n",
    "import datetime\n",
    "from sklearn.metrics import roc_auc_score\n",
    "from sklearn.metrics import confusion_matrix\n",
    "from sklearn.metrics import accuracy_score\n",
    "from sklearn.svm import SVC"
   ]
  },
  {
   "cell_type": "markdown",
   "metadata": {},
   "source": [
    "# Reading features by importance"
   ]
  },
  {
   "cell_type": "code",
   "execution_count": 2,
   "metadata": {},
   "outputs": [],
   "source": [
    "features_by_importance = list(pd.read_csv('feature_counts_10d.csv',header=None)[0])\n",
    "badf = pd.read_csv('data/badf.csv')"
   ]
  },
  {
   "cell_type": "code",
   "execution_count": 3,
   "metadata": {},
   "outputs": [],
   "source": [
    "TARGET_COL = 'target_10d'\n",
    "DATE_COL = 'date'\n",
    "TARGET_THRESHOLD = 0.001"
   ]
  },
  {
   "cell_type": "code",
   "execution_count": 4,
   "metadata": {},
   "outputs": [],
   "source": [
    "def badf_n_top_features(badf,features_by_importance,n,target_col):\n",
    "    columns = ['date']\n",
    "    columns.extend(features_by_importance[:n])\n",
    "    columns.append(target_col)\n",
    "    return badf.loc[:,columns].set_index('date')\n",
    "\n",
    "def convert_target_labels(df,threshold,target_col):\n",
    "    df.loc[df[target_col] > threshold,target_col] = 1\n",
    "    df.loc[df[target_col] <= threshold,target_col] = 0\n",
    "    return df\n",
    "\n",
    "# badf = badf_n_top_features(badf,features_by_importance,50,TARGET_COL)\n",
    "    \n",
    "badf = convert_target_labels(badf,TARGET_THRESHOLD,TARGET_COL)"
   ]
  },
  {
   "cell_type": "code",
   "execution_count": 5,
   "metadata": {},
   "outputs": [],
   "source": [
    "def prep_datasets_holdout(df,no_of_features,ignore_after,holdout_set_after,test_set_rows,train_set_rows,target,features_by_importance,cross_val_days):\n",
    "    df = badf_n_top_features(df,features_by_importance,no_of_features,target)\n",
    "    df = df[df.index <ignore_after]\n",
    "    df['target_10d'] = df['target_10d'].astype('int')\n",
    "\n",
    "    for column in df.columns:\n",
    "        if df[column].isna().any():\n",
    "            df[column].fillna(df[column].min(),inplace=True)\n",
    "        \n",
    "    train_set = df[-test_set_rows-train_set_rows-cross_val_days:-test_set_rows-cross_val_days-1]\n",
    "    test_set = df[-test_set_rows-cross_val_days-1:-cross_val_days-1]\n",
    "    train_set_X = train_set.drop(columns='target_10d')\n",
    "    train_set_y = train_set['target_10d']\n",
    "    test_set_X = test_set.drop(columns='target_10d')\n",
    "    test_set_y = test_set['target_10d']\n",
    "    \n",
    "    return df,train_set_X,test_set_X,train_set_y,test_set_y"
   ]
  },
  {
   "cell_type": "markdown",
   "metadata": {},
   "source": [
    "# Application to 2019 data (150 Days Method)"
   ]
  },
  {
   "cell_type": "markdown",
   "metadata": {},
   "source": [
    "## Polynomial"
   ]
  },
  {
   "cell_type": "code",
   "execution_count": 6,
   "metadata": {},
   "outputs": [],
   "source": [
    "C = 0.1\n",
    "kernel = 'poly'\n",
    "no_of_features = 5"
   ]
  },
  {
   "cell_type": "code",
   "execution_count": 7,
   "metadata": {},
   "outputs": [],
   "source": [
    "df,train_set_X,test_set_X,train_set_y,test_set_y = prep_datasets_holdout(badf,no_of_features,'2020-01-01','2019-01-01',150,1000,'target_10d',features_by_importance,0)"
   ]
  },
  {
   "cell_type": "code",
   "execution_count": 8,
   "metadata": {},
   "outputs": [],
   "source": [
    "model = SVC(C=C,kernel='poly',probability=True,random_state=42)"
   ]
  },
  {
   "cell_type": "code",
   "execution_count": 9,
   "metadata": {},
   "outputs": [],
   "source": [
    "model.fit(train_set_X,train_set_y)\n",
    "y_pred = model.predict(test_set_X)\n",
    "y_pred_proba = model.predict_proba(test_set_X)"
   ]
  },
  {
   "cell_type": "code",
   "execution_count": 10,
   "metadata": {},
   "outputs": [
    {
     "data": {
      "text/plain": [
       "array([[ 0, 51],\n",
       "       [ 0, 99]])"
      ]
     },
     "execution_count": 10,
     "metadata": {},
     "output_type": "execute_result"
    }
   ],
   "source": [
    "confusion_matrix(test_set_y,y_pred)"
   ]
  },
  {
   "cell_type": "code",
   "execution_count": 11,
   "metadata": {},
   "outputs": [
    {
     "data": {
      "text/plain": [
       "0.704297880768469"
      ]
     },
     "execution_count": 11,
     "metadata": {},
     "output_type": "execute_result"
    }
   ],
   "source": [
    "roc_auc_score(test_set_y,y_pred_proba[:,-1])"
   ]
  },
  {
   "cell_type": "markdown",
   "metadata": {},
   "source": [
    "## Linear"
   ]
  },
  {
   "cell_type": "code",
   "execution_count": 12,
   "metadata": {},
   "outputs": [],
   "source": [
    "C = 0.1\n",
    "kernel = 'linear'\n",
    "no_of_features = 5"
   ]
  },
  {
   "cell_type": "code",
   "execution_count": 13,
   "metadata": {},
   "outputs": [],
   "source": [
    "df,train_set_X,test_set_X,train_set_y,test_set_y = prep_datasets_holdout(badf,no_of_features,'2020-01-01','2019-01-01',150,1000,'target_10d',features_by_importance,0)"
   ]
  },
  {
   "cell_type": "code",
   "execution_count": 14,
   "metadata": {},
   "outputs": [],
   "source": [
    "model = SVC(C=C,kernel=kernel,probability=True,random_state=42)"
   ]
  },
  {
   "cell_type": "code",
   "execution_count": 15,
   "metadata": {},
   "outputs": [],
   "source": [
    "model.fit(train_set_X,train_set_y)\n",
    "y_pred = model.predict(test_set_X)\n",
    "y_pred_proba = model.predict_proba(test_set_X)"
   ]
  },
  {
   "cell_type": "code",
   "execution_count": 16,
   "metadata": {},
   "outputs": [
    {
     "data": {
      "text/plain": [
       "array([[ 0, 51],\n",
       "       [ 0, 99]])"
      ]
     },
     "execution_count": 16,
     "metadata": {},
     "output_type": "execute_result"
    }
   ],
   "source": [
    "confusion_matrix(test_set_y,y_pred)"
   ]
  },
  {
   "cell_type": "code",
   "execution_count": 17,
   "metadata": {},
   "outputs": [
    {
     "data": {
      "text/plain": [
       "0.7050901168548226"
      ]
     },
     "execution_count": 17,
     "metadata": {},
     "output_type": "execute_result"
    }
   ],
   "source": [
    "roc_auc_score(test_set_y,y_pred_proba[:,-1])"
   ]
  },
  {
   "cell_type": "markdown",
   "metadata": {},
   "source": [
    "# Application to 2019 data (Single Day prediction Method)"
   ]
  },
  {
   "cell_type": "markdown",
   "metadata": {},
   "source": [
    "## Linear"
   ]
  },
  {
   "cell_type": "code",
   "execution_count": 18,
   "metadata": {},
   "outputs": [],
   "source": [
    "C = 0.1\n",
    "kernel = 'linear'\n",
    "no_of_features = 5\n",
    "\n",
    "pred = []\n",
    "\n",
    "for i in range(len(df[df.index>'2019-01-01'])-1):\n",
    "    df,train_set_X,test_set_X,train_set_y,test_set_y = prep_datasets_holdout(badf,no_of_features,'2020-01-01','2019-01-01',1,1000,'target_10d',features_by_importance,i)\n",
    "    model = SVC(C=C,kernel=kernel,probability=True,random_state=42)\n",
    "    model.fit(train_set_X,train_set_y)\n",
    "    y_pred = model.predict(test_set_X)\n",
    "    y_pred_proba = model.predict_proba(test_set_X)\n",
    "    pred.append({'y_pred':y_pred[0],'Pred Prob':y_pred_proba[0,-1],'Y Actual':test_set_y[0]})    \n",
    "#    | print('Training set from {} to {}, Test set from {} to {}'.format(min(train_set_X.index),max(train_set_X.index),min(test_set_X.index),max(test_set_X.index)))\n",
    "predictions_holdout = pd.DataFrame(pred)"
   ]
  },
  {
   "cell_type": "code",
   "execution_count": 19,
   "metadata": {},
   "outputs": [
    {
     "data": {
      "text/plain": [
       "array([[  2,  81],\n",
       "       [ 21, 147]])"
      ]
     },
     "execution_count": 19,
     "metadata": {},
     "output_type": "execute_result"
    }
   ],
   "source": [
    "confusion_matrix(predictions_holdout['Y Actual'],predictions_holdout['y_pred'])"
   ]
  },
  {
   "cell_type": "code",
   "execution_count": 20,
   "metadata": {},
   "outputs": [
    {
     "data": {
      "text/plain": [
       "0.45510613884107864"
      ]
     },
     "execution_count": 20,
     "metadata": {},
     "output_type": "execute_result"
    }
   ],
   "source": [
    "roc_auc_score(predictions_holdout['Y Actual'],predictions_holdout['Pred Prob'])"
   ]
  },
  {
   "cell_type": "code",
   "execution_count": 21,
   "metadata": {},
   "outputs": [
    {
     "data": {
      "text/plain": [
       "0.5936254980079682"
      ]
     },
     "execution_count": 21,
     "metadata": {},
     "output_type": "execute_result"
    }
   ],
   "source": [
    "accuracy_score(predictions_holdout['Y Actual'],predictions_holdout['y_pred'])"
   ]
  },
  {
   "cell_type": "markdown",
   "metadata": {},
   "source": [
    "## Polynomial"
   ]
  },
  {
   "cell_type": "code",
   "execution_count": 22,
   "metadata": {},
   "outputs": [],
   "source": [
    "C = 0.1\n",
    "kernel = 'poly'\n",
    "no_of_features = 5\n",
    "\n",
    "pred = []\n",
    "\n",
    "for i in range(len(df[df.index>'2019-01-01'])-1):\n",
    "    df,train_set_X,test_set_X,train_set_y,test_set_y = prep_datasets_holdout(badf,no_of_features,'2020-01-01','2019-01-01',1,1000,'target_10d',features_by_importance,i)\n",
    "    model = SVC(C=C,kernel=kernel,probability=True,random_state=42)\n",
    "    model.fit(train_set_X,train_set_y)\n",
    "    y_pred = model.predict(test_set_X)\n",
    "    y_pred_proba = model.predict_proba(test_set_X)\n",
    "    pred.append({'y_pred':y_pred[0],'Pred Prob':y_pred_proba[0,-1],'Y Actual':test_set_y[0]})    \n",
    "#    | print('Training set from {} to {}, Test set from {} to {}'.format(min(train_set_X.index),max(train_set_X.index),min(test_set_X.index),max(test_set_X.index)))\n",
    "predictions_holdout = pd.DataFrame(pred)"
   ]
  },
  {
   "cell_type": "code",
   "execution_count": 23,
   "metadata": {},
   "outputs": [
    {
     "data": {
      "text/plain": [
       "array([[  2,  81],\n",
       "       [ 14, 154]])"
      ]
     },
     "execution_count": 23,
     "metadata": {},
     "output_type": "execute_result"
    }
   ],
   "source": [
    "confusion_matrix(predictions_holdout['Y Actual'],predictions_holdout['y_pred'])"
   ]
  },
  {
   "cell_type": "code",
   "execution_count": 24,
   "metadata": {},
   "outputs": [
    {
     "data": {
      "text/plain": [
       "0.4675487664945496"
      ]
     },
     "execution_count": 24,
     "metadata": {},
     "output_type": "execute_result"
    }
   ],
   "source": [
    "roc_auc_score(predictions_holdout['Y Actual'],predictions_holdout['Pred Prob'])"
   ]
  },
  {
   "cell_type": "code",
   "execution_count": 25,
   "metadata": {},
   "outputs": [
    {
     "data": {
      "text/plain": [
       "0.6215139442231076"
      ]
     },
     "execution_count": 25,
     "metadata": {},
     "output_type": "execute_result"
    }
   ],
   "source": [
    "accuracy_score(predictions_holdout['Y Actual'],predictions_holdout['y_pred'])"
   ]
  },
  {
   "cell_type": "markdown",
   "metadata": {},
   "source": [
    "# Application to 2019 data (All Data at single shot)"
   ]
  },
  {
   "cell_type": "markdown",
   "metadata": {},
   "source": [
    "## Linear"
   ]
  },
  {
   "cell_type": "code",
   "execution_count": 26,
   "metadata": {},
   "outputs": [],
   "source": [
    "C = 0.1\n",
    "kernel = 'linear'\n",
    "no_of_features = 5\n",
    "\n",
    "df,train_set_X,test_set_X,train_set_y,test_set_y = prep_datasets_holdout(badf,no_of_features,'2020-01-01','2019-01-01',len(df[df.index>'2019-01-01'])-1,1000,'target_10d',features_by_importance,0)"
   ]
  },
  {
   "cell_type": "code",
   "execution_count": 27,
   "metadata": {},
   "outputs": [],
   "source": [
    "model = SVC(C=C,kernel=kernel,probability=True,random_state=42)"
   ]
  },
  {
   "cell_type": "code",
   "execution_count": 28,
   "metadata": {},
   "outputs": [],
   "source": [
    "model.fit(train_set_X,train_set_y)\n",
    "y_pred = model.predict(test_set_X)\n",
    "y_pred_proba = model.predict_proba(test_set_X)"
   ]
  },
  {
   "cell_type": "code",
   "execution_count": 29,
   "metadata": {},
   "outputs": [
    {
     "data": {
      "text/plain": [
       "array([[46, 37],\n",
       "       [84, 84]])"
      ]
     },
     "execution_count": 29,
     "metadata": {},
     "output_type": "execute_result"
    }
   ],
   "source": [
    "confusion_matrix(test_set_y,y_pred)"
   ]
  },
  {
   "cell_type": "code",
   "execution_count": 30,
   "metadata": {},
   "outputs": [
    {
     "data": {
      "text/plain": [
       "0.5384394721744119"
      ]
     },
     "execution_count": 30,
     "metadata": {},
     "output_type": "execute_result"
    }
   ],
   "source": [
    "roc_auc_score(test_set_y,y_pred_proba[:,-1])"
   ]
  },
  {
   "cell_type": "code",
   "execution_count": 31,
   "metadata": {},
   "outputs": [
    {
     "data": {
      "text/plain": [
       "0.5179282868525896"
      ]
     },
     "execution_count": 31,
     "metadata": {},
     "output_type": "execute_result"
    }
   ],
   "source": [
    "accuracy_score(test_set_y,y_pred)"
   ]
  },
  {
   "cell_type": "markdown",
   "metadata": {},
   "source": [
    "## Polynomial"
   ]
  },
  {
   "cell_type": "code",
   "execution_count": 32,
   "metadata": {},
   "outputs": [],
   "source": [
    "C = 0.1\n",
    "kernel = 'poly'\n",
    "no_of_features = 5\n",
    "\n",
    "df,train_set_X,test_set_X,train_set_y,test_set_y = prep_datasets_holdout(badf,no_of_features,'2020-01-01','2019-01-01',len(df[df.index>'2019-01-01'])-1,1000,'target_10d',features_by_importance,0)"
   ]
  },
  {
   "cell_type": "code",
   "execution_count": 33,
   "metadata": {},
   "outputs": [],
   "source": [
    "model = SVC(C=C,kernel=kernel,probability=True,random_state=42)"
   ]
  },
  {
   "cell_type": "code",
   "execution_count": 34,
   "metadata": {},
   "outputs": [],
   "source": [
    "model.fit(train_set_X,train_set_y)\n",
    "y_pred = model.predict(test_set_X)\n",
    "y_pred_proba = model.predict_proba(test_set_X)"
   ]
  },
  {
   "cell_type": "code",
   "execution_count": 35,
   "metadata": {},
   "outputs": [
    {
     "data": {
      "text/plain": [
       "array([[54, 29],\n",
       "       [90, 78]])"
      ]
     },
     "execution_count": 35,
     "metadata": {},
     "output_type": "execute_result"
    }
   ],
   "source": [
    "confusion_matrix(test_set_y,y_pred)"
   ]
  },
  {
   "cell_type": "code",
   "execution_count": 36,
   "metadata": {},
   "outputs": [
    {
     "data": {
      "text/plain": [
       "0.541810097532989"
      ]
     },
     "execution_count": 36,
     "metadata": {},
     "output_type": "execute_result"
    }
   ],
   "source": [
    "roc_auc_score(test_set_y,y_pred_proba[:,-1])"
   ]
  },
  {
   "cell_type": "code",
   "execution_count": 37,
   "metadata": {},
   "outputs": [
    {
     "data": {
      "text/plain": [
       "0.5258964143426295"
      ]
     },
     "execution_count": 37,
     "metadata": {},
     "output_type": "execute_result"
    }
   ],
   "source": [
    "accuracy_score(test_set_y,y_pred)"
   ]
  },
  {
   "cell_type": "code",
   "execution_count": null,
   "metadata": {},
   "outputs": [],
   "source": []
  }
 ],
 "metadata": {
  "kernelspec": {
   "display_name": "Python 3",
   "language": "python",
   "name": "python3"
  },
  "language_info": {
   "codemirror_mode": {
    "name": "ipython",
    "version": 3
   },
   "file_extension": ".py",
   "mimetype": "text/x-python",
   "name": "python",
   "nbconvert_exporter": "python",
   "pygments_lexer": "ipython3",
   "version": "3.8.3"
  }
 },
 "nbformat": 4,
 "nbformat_minor": 4
}
